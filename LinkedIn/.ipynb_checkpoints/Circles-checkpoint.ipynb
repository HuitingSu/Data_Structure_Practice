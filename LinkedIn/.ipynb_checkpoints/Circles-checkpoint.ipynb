{
 "cells": [
  {
   "cell_type": "code",
   "execution_count": null,
   "metadata": {},
   "outputs": [],
   "source": [
    "import sys\n",
    "if __name__ == \"__main__\":\n",
    "    # 读取第一行的n\n",
    "    n = int(sys.stdin.readline().strip())\n",
    "    ans = 0\n",
    "    line = sys.stdin.readline().strip()\n",
    "    # 把一行数字分隔后转化成int列表\n",
    "    Ri = list(map(int, line.split()))\n",
    "    "
   ]
  },
  {
   "cell_type": "code",
   "execution_count": 45,
   "metadata": {},
   "outputs": [],
   "source": [
    "from decimal import getcontext, Decimal\n",
    "\n",
    "def c(n,Ri, X):\n",
    "    Ri.insert(0, 0)\n",
    "    circle_total = Ri[n]**2\n",
    "    print(circle_total)\n",
    "    E = [0]*(n+1)\n",
    "    for i in range(1,n+1):\n",
    "        E[i] = (Ri[i]**2 - Ri[i-1]**2)/circle_total * (n-i+1)\n",
    "    expected = sum(E)\n",
    "    \n",
    "    print(expected * X)"
   ]
  },
  {
   "cell_type": "code",
   "execution_count": 46,
   "metadata": {},
   "outputs": [
    {
     "name": "stdout",
     "output_type": "stream",
     "text": [
      "6.25\n",
      "2.7199999999999998\n"
     ]
    }
   ],
   "source": [
    "Ri = [1.5,2.5]\n",
    "n = 2\n",
    "X = 2\n",
    "getcontext().prec = 3\n",
    "c(n, Ri, X)"
   ]
  },
  {
   "cell_type": "code",
   "execution_count": null,
   "metadata": {},
   "outputs": [],
   "source": []
  }
 ],
 "metadata": {
  "kernelspec": {
   "display_name": "Python 3",
   "language": "python",
   "name": "python3"
  },
  "language_info": {
   "codemirror_mode": {
    "name": "ipython",
    "version": 3
   },
   "file_extension": ".py",
   "mimetype": "text/x-python",
   "name": "python",
   "nbconvert_exporter": "python",
   "pygments_lexer": "ipython3",
   "version": "3.6.4"
  }
 },
 "nbformat": 4,
 "nbformat_minor": 2
}
