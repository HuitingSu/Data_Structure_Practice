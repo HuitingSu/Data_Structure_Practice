{
 "cells": [
  {
   "cell_type": "markdown",
   "metadata": {},
   "source": [
    "Given a binary tree where all the right nodes are either leaf nodes with a sibling (a left node that shares the same parent node) or empty, flip it upside down and turn it into a tree where the original right nodes turned into left leaf nodes. Return the new root.\n",
    "\n",
    "For example:\n",
    "Given a binary tree {1,2,3,4,5},    \n",
    "1  \n",
    "/ \\  \n",
    "2 3  \n",
    "/ \\  \n",
    "4 5  \n",
    "\n",
    "return the root of the binary tree [4,5,2,#,#,3,1].  \n",
    "4  \n",
    "/ \\  \n",
    "5 2  \n",
    "  / \\  \n",
    " 3 1  "
   ]
  },
  {
   "cell_type": "code",
   "execution_count": 14,
   "metadata": {},
   "outputs": [],
   "source": [
    "# Definition for a  binary tree node\n",
    "class TreeNode:\n",
    "    def __init__(self, x):\n",
    "        self.val = x\n",
    "        self.left = None\n",
    "        self.right = None\n",
    "\n",
    "root = TreeNode(1)\n",
    "root.left = TreeNode(2)\n",
    "root.right = TreeNode(3)\n",
    "root.left.left = TreeNode(4)\n",
    "root.left.right = TreeNode(5)"
   ]
  },
  {
   "cell_type": "code",
   "execution_count": 12,
   "metadata": {},
   "outputs": [],
   "source": [
    "class Solution:\n",
    "    # @param root, a tree node\n",
    "    # @return root of the upside down tree\n",
    "    def upsideDownBinaryTree(self, root):\n",
    "        p, parent, parent_right = root, None, None  #p = root\n",
    "        \n",
    "        while p:\n",
    "            left = p.left\n",
    "            p.left = parent_right\n",
    "            parent_right = p.right\n",
    "            p.right = parent\n",
    "            parent = p\n",
    "            p = left\n",
    "            \n",
    "        return parent"
   ]
  },
  {
   "cell_type": "code",
   "execution_count": 13,
   "metadata": {},
   "outputs": [
    {
     "name": "stdout",
     "output_type": "stream",
     "text": [
      "4\n",
      "5\n"
     ]
    }
   ],
   "source": [
    "s = Solution()\n",
    "new = s.upsideDownBinaryTree(root)\n",
    "print(new.val)\n",
    "print(new.left.val)"
   ]
  },
  {
   "cell_type": "code",
   "execution_count": 15,
   "metadata": {},
   "outputs": [
    {
     "name": "stdout",
     "output_type": "stream",
     "text": [
      "4\n",
      "5\n"
     ]
    }
   ],
   "source": [
    "def UpsideDownBinaryTree(root):\n",
    "    cur = root\n",
    "    parent = None\n",
    "    parentRight = None\n",
    "    while cur:\n",
    "        #save left for next loop\n",
    "        left = cur.left\n",
    "        #update left\n",
    "        cur.left = parentRight\n",
    "        #save next parentRight\n",
    "        parentRight = cur.right\n",
    "        #update right\n",
    "        cur.right = parent\n",
    "        parent = cur\n",
    "        #go to left, cause right is either leaf or empty\n",
    "        cur = left \n",
    "\n",
    "    #leftmost is the new root\n",
    "    return parent\n",
    "\n",
    "new2 = UpsideDownBinaryTree(root)\n",
    "print(new.val)\n",
    "print(new.left.val)"
   ]
  },
  {
   "cell_type": "code",
   "execution_count": null,
   "metadata": {},
   "outputs": [],
   "source": [
    "class Solution2:\n",
    "    # @param root, a tree node\n",
    "    # @return root of the upside down tree\n",
    "    def upsideDownBinaryTree(self, root):\n",
    "        return self.upsideDownBinaryTreeRecu(root, None)\n",
    "    \n",
    "    def upsideDownBinaryTreeRecu(self, p, parent):\n",
    "        if p is None:\n",
    "            return parent\n",
    "        \n",
    "        root = self.upsideDownBinaryTreeRecu(p.left, p)\n",
    "        if parent:\n",
    "            p.left = parent.right\n",
    "        else:\n",
    "            p.left = None\n",
    "        p.right = parent\n",
    "        \n",
    "        return root"
   ]
  }
 ],
 "metadata": {
  "kernelspec": {
   "display_name": "Python 3",
   "language": "python",
   "name": "python3"
  },
  "language_info": {
   "codemirror_mode": {
    "name": "ipython",
    "version": 3
   },
   "file_extension": ".py",
   "mimetype": "text/x-python",
   "name": "python",
   "nbconvert_exporter": "python",
   "pygments_lexer": "ipython3",
   "version": "3.6.4"
  }
 },
 "nbformat": 4,
 "nbformat_minor": 2
}
