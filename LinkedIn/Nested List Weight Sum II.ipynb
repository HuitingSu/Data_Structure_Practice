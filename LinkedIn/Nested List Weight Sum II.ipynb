{
 "cells": [
  {
   "cell_type": "markdown",
   "metadata": {},
   "source": [
    "Given a nested list of integers, return the sum of all integers in the list weighted by their depth.\n",
    "\n",
    "Each element is either an integer, or a list -- whose elements may also be integers or other lists.\n",
    "\n",
    "Different from the previous question where weight is increasing from root to leaf, now the weight is defined from bottom up. i.e., the leaf level integers have weight 1, and the root level integers have the largest weight.\n",
    "\n",
    "Example 1:\n",
    "Given the list [[1,1],2,[1,1]], return 8. (four 1's at depth 1, one 2 at depth 2)\n",
    "\n",
    "Example 2:\n",
    "Given the list [1,[4,[6]]], return 17. (one 1 at depth 3, one 4 at depth 2, and one 6 at depth 1; 1*3 + 4*2 + 6*1 = 17) "
   ]
  },
  {
   "cell_type": "code",
   "execution_count": 10,
   "metadata": {},
   "outputs": [],
   "source": [
    "# Method 1: find the depth, and keep track of the sum of each level \n",
    "# After getting the depth, just multiply with the numbers recorded in the list\n",
    "def getSolution(x):\n",
    "    levelSum = []\n",
    "    def dfs(NestedList, depth):\n",
    "        res = 0\n",
    "        for subList in NestedList:\n",
    "            if type(subList) == int:\n",
    "                res += subList\n",
    "            else:\n",
    "                dfs(subList, depth+1)\n",
    "        levelSum.append(res)\n",
    "    \n",
    "    dfs(x, 1)\n",
    "    total = 0\n",
    "    for i in range(len(levelSum)):\n",
    "        total += levelSum[i] * (i+1)\n",
    "    return total"
   ]
  },
  {
   "cell_type": "code",
   "execution_count": 11,
   "metadata": {},
   "outputs": [
    {
     "data": {
      "text/plain": [
       "17"
      ]
     },
     "execution_count": 11,
     "metadata": {},
     "output_type": "execute_result"
    }
   ],
   "source": [
    "x = [1,[4,[6]]]\n",
    "getSolution(x)"
   ]
  },
  {
   "cell_type": "code",
   "execution_count": 33,
   "metadata": {},
   "outputs": [
    {
     "name": "stdout",
     "output_type": "stream",
     "text": [
      "{2: 6, 3: 2, 1: 2}\n"
     ]
    },
    {
     "data": {
      "text/plain": [
       "20"
      ]
     },
     "execution_count": 33,
     "metadata": {},
     "output_type": "execute_result"
    }
   ],
   "source": [
    "levelSum = {}\n",
    "def dfs(NestedList, depth):\n",
    "    res = 0\n",
    "    for subList in NestedList:\n",
    "        if type(subList) == int:\n",
    "            res += subList\n",
    "        else:\n",
    "            dfs(subList, depth+1)\n",
    "    if depth in levelSum:\n",
    "        levelSum[depth] += res\n",
    "    else:\n",
    "        levelSum[depth] = res\n",
    "\n",
    "x2 = [[1,1],2,[1,1],[2, [1,1]]]\n",
    "dfs(x2, 1)\n",
    "print(levelSum)\n",
    "maxDepth = max(levelSum)\n",
    "\n",
    "total = 0\n",
    "for depth in levelSum:\n",
    "    total += (maxDepth - depth + 1) * levelSum[depth]\n",
    "\n",
    "total"
   ]
  },
  {
   "cell_type": "markdown",
   "metadata": {},
   "source": [
    "## use of dictionary\n",
    "1. for a in x:  \n",
    "   x is dictionary, then a is index(instances), x[a] is the value of that instance.  \n",
    "2. max(x)\n",
    "   returns the max value of instance, not the value"
   ]
  },
  {
   "cell_type": "code",
   "execution_count": 32,
   "metadata": {
    "scrolled": true
   },
   "outputs": [
    {
     "name": "stdout",
     "output_type": "stream",
     "text": [
      "b\n",
      "a\n",
      "b\n"
     ]
    }
   ],
   "source": [
    "x={'a':4, 'b':2}\n",
    "print(max(x))\n",
    "for a in x:\n",
    "    print(a)"
   ]
  },
  {
   "cell_type": "code",
   "execution_count": null,
   "metadata": {},
   "outputs": [],
   "source": []
  }
 ],
 "metadata": {
  "kernelspec": {
   "display_name": "Python 3",
   "language": "python",
   "name": "python3"
  },
  "language_info": {
   "codemirror_mode": {
    "name": "ipython",
    "version": 3
   },
   "file_extension": ".py",
   "mimetype": "text/x-python",
   "name": "python",
   "nbconvert_exporter": "python",
   "pygments_lexer": "ipython3",
   "version": "3.6.4"
  }
 },
 "nbformat": 4,
 "nbformat_minor": 2
}
