{
 "cells": [
  {
   "cell_type": "markdown",
   "metadata": {},
   "source": [
    "### Problem\n",
    "Given a list of words and two words word1 and word2, return the shortest distance between these two words in the list.  \n",
    "\n",
    "For example, Assume that words = [\"practice\", \"makes\", \"perfect\", \"coding\", \"makes\"].  \n",
    "\n",
    "Given word1 = “coding”, word2 = “practice”, return 3. Given word1 = \"makes\", word2 = \"coding\", return 1.  \n",
    "\n",
    "Note: You may assume that word1 does not equal to word2, and word1 and word2 are both in the list.  \n",
    "\n",
    "### Solution\n",
    "Need to use a hash table.  \n",
    "Like two queues, the smaller one is poped out after comparing, because it is no longer useful."
   ]
  },
  {
   "cell_type": "code",
   "execution_count": 1,
   "metadata": {},
   "outputs": [],
   "source": [
    "dict = {}\n",
    "dict[\"makes\"]=[1,4]"
   ]
  },
  {
   "cell_type": "code",
   "execution_count": 2,
   "metadata": {},
   "outputs": [
    {
     "data": {
      "text/plain": [
       "{'makes': [1, 4]}"
      ]
     },
     "execution_count": 2,
     "metadata": {},
     "output_type": "execute_result"
    }
   ],
   "source": [
    "dict"
   ]
  },
  {
   "cell_type": "code",
   "execution_count": 23,
   "metadata": {},
   "outputs": [],
   "source": [
    "word1 = \"makes\"\n",
    "word2 = \"coding\"\n",
    "dict = {}\n",
    "words = [\"practice\", \"makes\", \"perfect\", \"coding\", \"makes\"]\n",
    "for i in range(len(words)):\n",
    "    word = words[i]\n",
    "    if word not in dict:\n",
    "        dict[word] = [i]\n",
    "    else:\n",
    "        dict[word].append(i)"
   ]
  },
  {
   "cell_type": "code",
   "execution_count": 24,
   "metadata": {},
   "outputs": [
    {
     "data": {
      "text/plain": [
       "{'coding': [3], 'makes': [1, 4], 'perfect': [2], 'practice': [0]}"
      ]
     },
     "execution_count": 24,
     "metadata": {},
     "output_type": "execute_result"
    }
   ],
   "source": [
    "dict"
   ]
  },
  {
   "cell_type": "code",
   "execution_count": 25,
   "metadata": {},
   "outputs": [
    {
     "data": {
      "text/plain": [
       "1"
      ]
     },
     "execution_count": 25,
     "metadata": {},
     "output_type": "execute_result"
    }
   ],
   "source": [
    "pos1 = dict[word1]\n",
    "pos2 = dict[word2]\n",
    "mindis = len(words) \n",
    "i = 0\n",
    "j = 0\n",
    "while i <= len(pos1)-1 and j <= len(pos2)-1:\n",
    "    if pos1[i] <= pos2[j]:\n",
    "        if pos2[j] - pos1[i] < mindis:\n",
    "            mindis = pos2[j] - pos1[i]\n",
    "        i += 1\n",
    "    else:\n",
    "        if pos1[i] - pos2[j] < mindis:\n",
    "            mindis = pos1[i] - pos2[j]\n",
    "        j += 1\n",
    "mindis"
   ]
  },
  {
   "cell_type": "code",
   "execution_count": null,
   "metadata": {},
   "outputs": [],
   "source": []
  }
 ],
 "metadata": {
  "kernelspec": {
   "display_name": "Python 3",
   "language": "python",
   "name": "python3"
  },
  "language_info": {
   "codemirror_mode": {
    "name": "ipython",
    "version": 3
   },
   "file_extension": ".py",
   "mimetype": "text/x-python",
   "name": "python",
   "nbconvert_exporter": "python",
   "pygments_lexer": "ipython3",
   "version": "3.6.4"
  }
 },
 "nbformat": 4,
 "nbformat_minor": 2
}
