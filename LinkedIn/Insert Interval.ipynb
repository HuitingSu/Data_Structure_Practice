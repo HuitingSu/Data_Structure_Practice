{
 "cells": [
  {
   "cell_type": "markdown",
   "metadata": {},
   "source": [
    "## This code is really problematic"
   ]
  },
  {
   "cell_type": "code",
   "execution_count": 17,
   "metadata": {},
   "outputs": [],
   "source": [
    "class Interval(object):\n",
    "    def __init__(self, s=0, e=0):\n",
    "        self.start = s\n",
    "        self.end = e\n",
    "\n",
    "class Solution(object):\n",
    "    def insert(self, intervals, newInterval):\n",
    "        \"\"\"\n",
    "        :type intervals: List[Interval]\n",
    "        :type newInterval: Interval\n",
    "        :rtype: List[Interval]\n",
    "        \"\"\"\n",
    "        left = newInterval.start\n",
    "        right = newInterval.end\n",
    "        i = 0 \n",
    "        while i < len(intervals):\n",
    "            p = intervals[i].start\n",
    "            q = intervals[i].end\n",
    "            if right < p:\n",
    "                intervals.insert(i, Interval(left,right))\n",
    "                return intervals\n",
    "            if left > q:\n",
    "                if i == len(intervals)-1:\n",
    "                    intervals.append(Interval(left, right))\n",
    "                    return intervals\n",
    "                else:\n",
    "                    i += 1\n",
    "            if left < q and left > p:\n",
    "                left = p\n",
    "                if right < q:\n",
    "                    right = q\n",
    "                intervals.pop(i)\n",
    "            if left < p and right > p:\n",
    "                if right < q:\n",
    "                    right = q\n",
    "                intervals.pop(i)\n",
    "                "
   ]
  },
  {
   "cell_type": "code",
   "execution_count": 18,
   "metadata": {},
   "outputs": [],
   "source": [
    "intervals = [Interval(1,3), Interval(6,9)]\n",
    "newInterval = Interval(2,5)\n",
    "s = Solution()\n",
    "new = s.insert(intervals, newInterval)"
   ]
  },
  {
   "cell_type": "code",
   "execution_count": 19,
   "metadata": {},
   "outputs": [
    {
     "name": "stdout",
     "output_type": "stream",
     "text": [
      "1\n",
      "5\n",
      "6\n",
      "9\n"
     ]
    }
   ],
   "source": [
    "for interval in new:\n",
    "    print(interval.start)\n",
    "    print(interval.end)"
   ]
  },
  {
   "cell_type": "code",
   "execution_count": 20,
   "metadata": {},
   "outputs": [
    {
     "name": "stdout",
     "output_type": "stream",
     "text": [
      "1\n",
      "2\n",
      "3\n",
      "10\n",
      "12\n",
      "16\n"
     ]
    }
   ],
   "source": [
    "intervals2 = [Interval(1,2), Interval(3,5), Interval(6,7), Interval(8,10), Interval(12,16)]\n",
    "newInterval2 = Interval(4,9)\n",
    "s2 = Solution()\n",
    "new2 = s2.insert(intervals2, newInterval2)\n",
    "for interval in new2:\n",
    "    print(interval.start)\n",
    "    print(interval.end)"
   ]
  },
  {
   "cell_type": "markdown",
   "metadata": {},
   "source": [
    "## Another method"
   ]
  },
  {
   "cell_type": "code",
   "execution_count": null,
   "metadata": {},
   "outputs": [],
   "source": [
    "class Solution(object):\n",
    "    def insert(self, intervals, newInterval):\n",
    "        \"\"\"\n",
    "        :type intervals: List[Interval]\n",
    "        :type newInterval: Interval\n",
    "        :rtype: List[Interval]\n",
    "        \"\"\"\n",
    "        s = newInterval.start\n",
    "        e = newInterval.end\n",
    "        left = []\n",
    "        right = []\n",
    "        for interval in intervals:\n",
    "            if interval.end < s:\n",
    "                left.append(interval)\n",
    "            if interval.start > e:\n",
    "                right.append(interval)\n",
    "        if left+right != intervals:\n",
    "            s = min(s, intervals[len(left)].start)\n",
    "            e = max(e, intervals[len(intervals)-len(right)-1].end)\n",
    "        return left + [Interval(s,e)] + right\n",
    "                "
   ]
  }
 ],
 "metadata": {
  "kernelspec": {
   "display_name": "Python 3",
   "language": "python",
   "name": "python3"
  },
  "language_info": {
   "codemirror_mode": {
    "name": "ipython",
    "version": 3
   },
   "file_extension": ".py",
   "mimetype": "text/x-python",
   "name": "python",
   "nbconvert_exporter": "python",
   "pygments_lexer": "ipython3",
   "version": "3.6.4"
  }
 },
 "nbformat": 4,
 "nbformat_minor": 2
}
