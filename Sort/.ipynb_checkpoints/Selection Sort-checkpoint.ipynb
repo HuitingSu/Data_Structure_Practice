{
 "cells": [
  {
   "cell_type": "code",
   "execution_count": 17,
   "metadata": {},
   "outputs": [],
   "source": [
    "class Solution(object):\n",
    "    def solve(self, array):\n",
    "        # i: left of i are sorted\n",
    "        # j: from i+1 to end\n",
    "        length = len(array)\n",
    "        if length <=1:\n",
    "            return array\n",
    "        else:\n",
    "            for i in range(0, length-1):\n",
    "                for j in range(i+1,length):\n",
    "                    if array[i] > array[j]:\n",
    "                        tmp = array[j]\n",
    "                        array[j] = array[i]\n",
    "                        array[i] = tmp\n",
    "        return array"
   ]
  },
  {
   "cell_type": "code",
   "execution_count": 25,
   "metadata": {},
   "outputs": [
    {
     "data": {
      "text/plain": [
       "[0, 0, 0, 1, 1, 1, 2, 9, 12345]"
      ]
     },
     "execution_count": 25,
     "metadata": {},
     "output_type": "execute_result"
    }
   ],
   "source": [
    "x = Solution()\n",
    "a = [1,1,1,0,0,0,9,2,12345]\n",
    "x.solve(a)"
   ]
  },
  {
   "cell_type": "code",
   "execution_count": 8,
   "metadata": {},
   "outputs": [
    {
     "data": {
      "text/plain": [
       "3"
      ]
     },
     "execution_count": 8,
     "metadata": {},
     "output_type": "execute_result"
    }
   ],
   "source": [
    "x= (1,2,3)\n",
    "len(x)"
   ]
  }
 ],
 "metadata": {
  "kernelspec": {
   "display_name": "Python 3",
   "language": "python",
   "name": "python3"
  },
  "language_info": {
   "codemirror_mode": {
    "name": "ipython",
    "version": 3
   },
   "file_extension": ".py",
   "mimetype": "text/x-python",
   "name": "python",
   "nbconvert_exporter": "python",
   "pygments_lexer": "ipython3",
   "version": "3.6.4"
  }
 },
 "nbformat": 4,
 "nbformat_minor": 2
}
