{
 "cells": [
  {
   "cell_type": "code",
   "execution_count": 61,
   "metadata": {},
   "outputs": [],
   "source": [
    "class Solution(object):\n",
    "    def mergeSort(self, array):\n",
    "        if array == None or array == []:\n",
    "            return []\n",
    "        return self.merge(array, 0, len(array)-1)\n",
    "         \n",
    "    def merge(self, a, start, end):\n",
    "        if start == end:\n",
    "            return [a[start]]\n",
    "        else:\n",
    "            mid = start + (end - start) // 2\n",
    "            left = self.merge(a, start, mid)\n",
    "            right = self.merge(a, mid+1, end)\n",
    "            i = 0\n",
    "            j = 0  \n",
    "            sortedArray = []\n",
    "            while i < len(left) and j < len(right):\n",
    "                if left[i] < right[j]:\n",
    "                    sortedArray.append(left[i])\n",
    "                    i += 1  \n",
    "                else:\n",
    "                    sortedArray.append(right[j])\n",
    "                    j += 1\n",
    "            sortedArray = sortedArray + left[i:len(left)] + right[j:len(right)]  \n",
    "            #return the list. [i:len(left)] ith to the last element. if i is large, return [] \n",
    "            return sortedArray"
   ]
  },
  {
   "cell_type": "code",
   "execution_count": 66,
   "metadata": {},
   "outputs": [
    {
     "data": {
      "text/plain": [
       "[2, 8]"
      ]
     },
     "execution_count": 66,
     "metadata": {},
     "output_type": "execute_result"
    }
   ],
   "source": [
    "x = Solution()\n",
    "y = [8,2]\n",
    "x.mergeSort(y)"
   ]
  },
  {
   "cell_type": "code",
   "execution_count": 53,
   "metadata": {},
   "outputs": [
    {
     "data": {
      "text/plain": [
       "[4, 5]"
      ]
     },
     "execution_count": 53,
     "metadata": {},
     "output_type": "execute_result"
    }
   ],
   "source": [
    "y[0:len(y)]"
   ]
  }
 ],
 "metadata": {
  "kernelspec": {
   "display_name": "Python 3",
   "language": "python",
   "name": "python3"
  },
  "language_info": {
   "codemirror_mode": {
    "name": "ipython",
    "version": 3
   },
   "file_extension": ".py",
   "mimetype": "text/x-python",
   "name": "python",
   "nbconvert_exporter": "python",
   "pygments_lexer": "ipython3",
   "version": "3.6.4"
  }
 },
 "nbformat": 4,
 "nbformat_minor": 2
}
