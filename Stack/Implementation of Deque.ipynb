{
 "cells": [
  {
   "cell_type": "markdown",
   "metadata": {},
   "source": [
    "Check if its empty  \n",
    "Add to both front and rear  \n",
    "Remove from Front and Rear  \n",
    "Check the Size  "
   ]
  },
  {
   "cell_type": "code",
   "execution_count": 1,
   "metadata": {},
   "outputs": [],
   "source": [
    "class Deque(object):\n",
    "    def __init__(self):\n",
    "        self.q = []\n",
    "    \n",
    "    def isEmpty(self):\n",
    "        return self.q == []\n",
    "    \n",
    "    def addFront(self, element):\n",
    "        self.q.insert(0, element)\n",
    "        \n",
    "    def addRear(self, element):\n",
    "        self.q.append(element)\n",
    "    \n",
    "    def RemoveFront(self):\n",
    "        return self.q.pop(0)\n",
    "    \n",
    "    def RemoveRear(self):\n",
    "        return self.q.pop()\n",
    "    \n",
    "    def size(self):\n",
    "        return len(self.q)"
   ]
  },
  {
   "cell_type": "code",
   "execution_count": 3,
   "metadata": {},
   "outputs": [],
   "source": [
    "d= Deque()\n",
    "d.addFront(2)\n",
    "d.addRear(3)\n",
    "d.addFront(1)"
   ]
  },
  {
   "cell_type": "code",
   "execution_count": 4,
   "metadata": {},
   "outputs": [
    {
     "data": {
      "text/plain": [
       "3"
      ]
     },
     "execution_count": 4,
     "metadata": {},
     "output_type": "execute_result"
    }
   ],
   "source": [
    "d.RemoveRear()"
   ]
  },
  {
   "cell_type": "code",
   "execution_count": null,
   "metadata": {},
   "outputs": [],
   "source": []
  }
 ],
 "metadata": {
  "kernelspec": {
   "display_name": "Python 3",
   "language": "python",
   "name": "python3"
  },
  "language_info": {
   "codemirror_mode": {
    "name": "ipython",
    "version": 3
   },
   "file_extension": ".py",
   "mimetype": "text/x-python",
   "name": "python",
   "nbconvert_exporter": "python",
   "pygments_lexer": "ipython3",
   "version": "3.6.4"
  }
 },
 "nbformat": 4,
 "nbformat_minor": 2
}
