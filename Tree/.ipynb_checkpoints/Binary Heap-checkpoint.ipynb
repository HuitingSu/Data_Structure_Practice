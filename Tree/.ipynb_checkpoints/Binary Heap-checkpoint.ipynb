{
 "cells": [
  {
   "cell_type": "markdown",
   "metadata": {},
   "source": [
    "Binary Heap Operations\n",
    "The basic operations we will implement for our binary heap are as follows:\n",
    "\n",
    "BinaryHeap() creates a new, empty, binary heap.  \n",
    "insert(k) adds a new item to the heap.  \n",
    "findMin() returns the item with the minimum key value, leaving item in the heap.  \n",
    "delMin() returns the item with the minimum key value, removing the item from the heap.  \n",
    "isEmpty() returns true if the heap is empty, false otherwise.  \n",
    "size() returns the number of items in the heap.    \n",
    "buildHeap(list) builds a new heap from a list of keys. \n",
    "\n",
    "Notes:   \n",
    "[0] + alist[:]  is the same of [0] + alist"
   ]
  },
  {
   "cell_type": "code",
   "execution_count": 198,
   "metadata": {},
   "outputs": [],
   "source": [
    "class BinaryHeap:\n",
    "    def __init__(self):\n",
    "        self.heapList = []\n",
    "        self.currentSize = 0\n",
    "    \n",
    "    # compare node i with its parent. If wrong order, swap \n",
    "    def percUp(self, i):\n",
    "        while i // 2 > 0:\n",
    "            if self.heapList[i//2] > self.heapList[i]:\n",
    "                tmp = self.heapList[i//2]\n",
    "                self.heapList[i//2] = self.heapList[i]\n",
    "                self.heapList[i] = tmp\n",
    "                i = i // 2\n",
    "            else:\n",
    "                break\n",
    "    \n",
    "    # Add the node at the end of the list, then percUp that node\n",
    "    def insert(self, x):\n",
    "        self.currentSize += 1\n",
    "        self.heapList.append(x)\n",
    "        self.percUp(self.currentSize)\n",
    "        \n",
    "    def percDown(self, i):\n",
    "        while 2*i <= self.currentSize:\n",
    "            mc = self.minChild(i)\n",
    "            if self.heapList[mc] < self.heapList[i]:\n",
    "                tmp = self.heapList[i]\n",
    "                self.heapList[i] = self.heapList[mc]\n",
    "                self.heapList[mc] = tmp\n",
    "                i = mc\n",
    "            else:\n",
    "                break\n",
    "    \n",
    "    # Find min child of node i. This function will be used in precDown, \n",
    "    # and the node is guaranteed to have at least a child\n",
    "    # Return the index of the min node\n",
    "    def minChild(self, i):\n",
    "        if 2*i + 1 > self.currentSize:\n",
    "            return 2*i\n",
    "        else:\n",
    "            if self.heapList[2*i] < self.heapList[2*i + 1]:\n",
    "                return 2*i\n",
    "            else:\n",
    "                return 2*i+1            \n",
    "    \n",
    "    def delMin(self):\n",
    "        self.heapList[1] = self.heapList.pop()\n",
    "        self.currentSize -= 1\n",
    "        self.percDown(1)\n",
    "\n",
    "    def buildHeap(self, aList):\n",
    "        aList = [0] + aList\n",
    "        self.currentSize = len(aList)\n",
    "        for i in range( self.currentSize // 2, 0, -1 ):\n",
    "            self.percDown(i)\n",
    "    "
   ]
  },
  {
   "cell_type": "code",
   "execution_count": 199,
   "metadata": {},
   "outputs": [],
   "source": [
    "heap =BinaryHeap()\n",
    "heap.heapList = [0, 6, 7, 12, 10, 15, 17, 9]\n",
    "heap.currentSize = 7"
   ]
  },
  {
   "cell_type": "code",
   "execution_count": 200,
   "metadata": {},
   "outputs": [],
   "source": [
    "heap.percUp(7)"
   ]
  },
  {
   "cell_type": "code",
   "execution_count": 201,
   "metadata": {},
   "outputs": [
    {
     "data": {
      "text/plain": [
       "[0, 6, 7, 9, 10, 15, 17, 12]"
      ]
     },
     "execution_count": 201,
     "metadata": {},
     "output_type": "execute_result"
    }
   ],
   "source": [
    "heap.heapList"
   ]
  },
  {
   "cell_type": "code",
   "execution_count": 202,
   "metadata": {},
   "outputs": [
    {
     "data": {
      "text/plain": [
       "[0, 7, 10, 9, 12, 15, 17]"
      ]
     },
     "execution_count": 202,
     "metadata": {},
     "output_type": "execute_result"
    }
   ],
   "source": [
    "heap.delMin()\n",
    "heap.heapList"
   ]
  },
  {
   "cell_type": "markdown",
   "metadata": {},
   "source": [
    "Some test:"
   ]
  },
  {
   "cell_type": "code",
   "execution_count": 119,
   "metadata": {},
   "outputs": [
    {
     "data": {
      "text/plain": [
       "[0, 12, 7, 9, 10, 15, 17, 1]"
      ]
     },
     "execution_count": 119,
     "metadata": {},
     "output_type": "execute_result"
    }
   ],
   "source": [
    "heap.heapList.append(1)\n",
    "heap.heapList"
   ]
  },
  {
   "cell_type": "code",
   "execution_count": 55,
   "metadata": {},
   "outputs": [
    {
     "data": {
      "text/plain": [
       "[0, 6, 7, 12, 10, 15, 17, 9]"
      ]
     },
     "execution_count": 55,
     "metadata": {},
     "output_type": "execute_result"
    }
   ],
   "source": [
    "alist = [6, 7, 12, 10, 15, 17, 9]\n",
    "[0] + alist[:]"
   ]
  },
  {
   "cell_type": "code",
   "execution_count": 56,
   "metadata": {},
   "outputs": [
    {
     "data": {
      "text/plain": [
       "[0, 6, 7, 12, 10, 15, 17, 9]"
      ]
     },
     "execution_count": 56,
     "metadata": {},
     "output_type": "execute_result"
    }
   ],
   "source": [
    "[0] + alist"
   ]
  },
  {
   "cell_type": "code",
   "execution_count": 169,
   "metadata": {},
   "outputs": [],
   "source": [
    "# Solution\n",
    "class BinHeap:\n",
    "    def __init__(self):\n",
    "        self.heapList = [0]\n",
    "        self.currentSize = 0\n",
    "\n",
    "\n",
    "    def percUp(self,i):\n",
    "        \n",
    "        while i // 2 > 0:\n",
    "            \n",
    "            if self.heapList[i] < self.heapList[i // 2]:\n",
    "                tmp = self.heapList[i // 2]\n",
    "                self.heapList[i // 2] = self.heapList[i]\n",
    "                self.heapList[i] = tmp\n",
    "                i = i // 2\n",
    "            else:\n",
    "                break\n",
    "\n",
    "    def insert(self,k):\n",
    "        \n",
    "        self.heapList.append(k)\n",
    "        self.currentSize = self.currentSize + 1\n",
    "        self.percUp(self.currentSize)\n",
    "\n",
    "    def percDown(self,i):    #swap the node with the min child\n",
    "        \n",
    "        while (i * 2) <= self.currentSize:\n",
    "            \n",
    "            mc = self.minChild(i)\n",
    "            if self.heapList[i] > self.heapList[mc]:\n",
    "                \n",
    "                tmp = self.heapList[i]\n",
    "                self.heapList[i] = self.heapList[mc]\n",
    "                self.heapList[mc] = tmp\n",
    "            i = mc\n",
    "\n",
    "    def minChild(self,i):   # find the min child between the two children of node i\n",
    "        \n",
    "        if i * 2 + 1 > self.currentSize:\n",
    "            \n",
    "            return i * 2\n",
    "        else:\n",
    "            \n",
    "            if self.heapList[i*2] < self.heapList[i*2+1]:\n",
    "                return i * 2\n",
    "            else:\n",
    "                return i * 2 + 1\n",
    "\n",
    "    def delMin(self):\n",
    "        retval = self.heapList[1]\n",
    "        self.heapList[1] = self.heapList[self.currentSize]\n",
    "        self.currentSize = self.currentSize - 1\n",
    "        self.heapList.pop()\n",
    "        self.percDown(1)\n",
    "        return retval\n",
    "\n",
    "    def buildHeap(self,alist):\n",
    "        i = len(alist) // 2\n",
    "        self.currentSize = len(alist)\n",
    "        self.heapList = [0] + alist[:]\n",
    "        while (i > 0):\n",
    "            self.percDown(i)\n",
    "            i = i - 1"
   ]
  },
  {
   "cell_type": "code",
   "execution_count": 190,
   "metadata": {},
   "outputs": [],
   "source": [
    "heap3 =BinHeap()\n",
    "heap3.heapList = [0, 9, 14, 11, 17, 18, 19, 21, 33, 27]\n",
    "heap3.currentSize = 9"
   ]
  },
  {
   "cell_type": "code",
   "execution_count": 191,
   "metadata": {},
   "outputs": [
    {
     "data": {
      "text/plain": [
       "9"
      ]
     },
     "execution_count": 191,
     "metadata": {},
     "output_type": "execute_result"
    }
   ],
   "source": [
    "heap3.delMin()"
   ]
  },
  {
   "cell_type": "code",
   "execution_count": 192,
   "metadata": {},
   "outputs": [
    {
     "data": {
      "text/plain": [
       "[0, 11, 14, 19, 17, 18, 27, 21, 33]"
      ]
     },
     "execution_count": 192,
     "metadata": {},
     "output_type": "execute_result"
    }
   ],
   "source": [
    "heap3.heapList"
   ]
  },
  {
   "cell_type": "code",
   "execution_count": null,
   "metadata": {},
   "outputs": [],
   "source": []
  }
 ],
 "metadata": {
  "kernelspec": {
   "display_name": "Python 3",
   "language": "python",
   "name": "python3"
  },
  "language_info": {
   "codemirror_mode": {
    "name": "ipython",
    "version": 3
   },
   "file_extension": ".py",
   "mimetype": "text/x-python",
   "name": "python",
   "nbconvert_exporter": "python",
   "pygments_lexer": "ipython3",
   "version": "3.6.4"
  }
 },
 "nbformat": 4,
 "nbformat_minor": 2
}
