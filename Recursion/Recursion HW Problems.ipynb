{
 "cells": [
  {
   "cell_type": "markdown",
   "metadata": {},
   "source": [
    "## P1\n",
    "Write a recursive function which takes an integer and computes the cumulative sum of 0 to that integer\n",
    "\n",
    "For example, if n=4 , return 4+3+2+1+0, which is 10."
   ]
  },
  {
   "cell_type": "code",
   "execution_count": 4,
   "metadata": {},
   "outputs": [],
   "source": [
    "def rec_sum(n):\n",
    "    if n == 0:\n",
    "        return 0 \n",
    "    return n + rec_sum(n-1) "
   ]
  },
  {
   "cell_type": "code",
   "execution_count": 5,
   "metadata": {},
   "outputs": [
    {
     "data": {
      "text/plain": [
       "10"
      ]
     },
     "execution_count": 5,
     "metadata": {},
     "output_type": "execute_result"
    }
   ],
   "source": [
    "rec_sum(4)"
   ]
  },
  {
   "cell_type": "code",
   "execution_count": 6,
   "metadata": {},
   "outputs": [
    {
     "data": {
      "text/plain": [
       "0"
      ]
     },
     "execution_count": 6,
     "metadata": {},
     "output_type": "execute_result"
    }
   ],
   "source": [
    "rec_sum(0)"
   ]
  },
  {
   "cell_type": "markdown",
   "metadata": {},
   "source": [
    "## P2\n",
    "Given an integer, create a function which returns the sum of all the individual digits in that integer. For example: if n = 4321, return 4+3+2+1"
   ]
  },
  {
   "cell_type": "code",
   "execution_count": 11,
   "metadata": {},
   "outputs": [],
   "source": [
    "def sum_func(n):\n",
    "    if n < 10:\n",
    "        return n\n",
    "    return n%10 + sum_func(int((n-n%10)/10))"
   ]
  },
  {
   "cell_type": "code",
   "execution_count": 12,
   "metadata": {},
   "outputs": [
    {
     "data": {
      "text/plain": [
       "10"
      ]
     },
     "execution_count": 12,
     "metadata": {},
     "output_type": "execute_result"
    }
   ],
   "source": [
    "sum_func(4321)"
   ]
  },
  {
   "cell_type": "markdown",
   "metadata": {},
   "source": [
    "## P3  \n",
    "Create a function called word_split() which takes in a string phrase and a set list_of_words. The function will then determine if it is possible to split the string in a way in which words can be made from the list of words. You can assume the phrase will only contain words found in the dictionary if it is completely splittable."
   ]
  },
  {
   "cell_type": "code",
   "execution_count": 24,
   "metadata": {},
   "outputs": [],
   "source": [
    "def word_split(phrase,list_of_words, output = None):\n",
    "    \n",
    "    if phrase.replace(' ','') == '':\n",
    "        return True\n",
    "    elif list_of_words == []:\n",
    "        return False\n",
    "    \n",
    "    t = 0\n",
    "    for word in list_of_words:\n",
    "        if word in list_of_words:\n",
    "            t += 1\n",
    "    if t==0:\n",
    "        return False\n",
    "        \n",
    "    for i in range(len(list_of_words)):\n",
    "        word = list_of_words[i]\n",
    "        if word in phrase:\n",
    "            return word_split(phrase.replace(word, ' '), list_of_words.pop(i))"
   ]
  },
  {
   "cell_type": "code",
   "execution_count": 13,
   "metadata": {},
   "outputs": [
    {
     "data": {
      "text/plain": [
       "True"
      ]
     },
     "execution_count": 13,
     "metadata": {},
     "output_type": "execute_result"
    }
   ],
   "source": [
    "'s' in 'spring'"
   ]
  },
  {
   "cell_type": "code",
   "execution_count": 20,
   "metadata": {},
   "outputs": [
    {
     "data": {
      "text/plain": [
       "'spring'"
      ]
     },
     "execution_count": 20,
     "metadata": {},
     "output_type": "execute_result"
    }
   ],
   "source": [
    "s = 'spring'\n",
    "s.replace('s','')\n",
    "s"
   ]
  },
  {
   "cell_type": "code",
   "execution_count": 26,
   "metadata": {},
   "outputs": [],
   "source": [
    "word_split('themanran',['the','ran','man'])"
   ]
  },
  {
   "cell_type": "code",
   "execution_count": 23,
   "metadata": {},
   "outputs": [
    {
     "data": {
      "text/plain": [
       "3"
      ]
     },
     "execution_count": 23,
     "metadata": {},
     "output_type": "execute_result"
    }
   ],
   "source": [
    "len(['the','ran','man'])"
   ]
  },
  {
   "cell_type": "code",
   "execution_count": 30,
   "metadata": {},
   "outputs": [],
   "source": [
    "def word_split(phrase,list_of_words, output = None):\n",
    "    '''\n",
    "    Note: This is a very \"python-y\" solution.\n",
    "    ''' \n",
    "    \n",
    "    # Checks to see if any output has been initiated.\n",
    "    # If you default output=[], it would be overwritten for every recursion!\n",
    "    if output is None:\n",
    "        output = []\n",
    "    \n",
    "    # For every word in list\n",
    "    for word in list_of_words:\n",
    "        \n",
    "        # If the current phrase begins with the word, we have a split point!\n",
    "        if phrase.startswith(word):\n",
    "            \n",
    "            # Add the word to the output\n",
    "            output.append(word)\n",
    "            \n",
    "            # Recursively call the split function on the remaining portion of the phrase--- phrase[len(word):]\n",
    "            # Remember to pass along the output and list of words\n",
    "            return word_split(phrase[len(word):],list_of_words,output)\n",
    "    \n",
    "    # Finally return output if no phrase.startswith(word) returns True\n",
    "    return output        "
   ]
  },
  {
   "cell_type": "code",
   "execution_count": 34,
   "metadata": {},
   "outputs": [
    {
     "data": {
      "text/plain": [
       "['the', 'man']"
      ]
     },
     "execution_count": 34,
     "metadata": {},
     "output_type": "execute_result"
    }
   ],
   "source": [
    "word_split('themanran',['the','man', 'clown'])"
   ]
  },
  {
   "cell_type": "markdown",
   "metadata": {},
   "source": [
    "The problem description is not so clear... If it can not be completely splitted, still return part of it."
   ]
  }
 ],
 "metadata": {
  "kernelspec": {
   "display_name": "Python 3",
   "language": "python",
   "name": "python3"
  },
  "language_info": {
   "codemirror_mode": {
    "name": "ipython",
    "version": 3
   },
   "file_extension": ".py",
   "mimetype": "text/x-python",
   "name": "python",
   "nbconvert_exporter": "python",
   "pygments_lexer": "ipython3",
   "version": "3.6.4"
  }
 },
 "nbformat": 4,
 "nbformat_minor": 2
}
